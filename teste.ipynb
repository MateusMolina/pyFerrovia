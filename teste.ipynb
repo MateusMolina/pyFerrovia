{
 "metadata": {
  "language_info": {
   "codemirror_mode": {
    "name": "ipython",
    "version": 3
   },
   "file_extension": ".py",
   "mimetype": "text/x-python",
   "name": "python",
   "nbconvert_exporter": "python",
   "pygments_lexer": "ipython3",
   "version": "3.8.6-candidate"
  },
  "orig_nbformat": 2,
  "kernelspec": {
   "name": "python3",
   "display_name": "Python 3",
   "language": "python"
  }
 },
 "nbformat": 4,
 "nbformat_minor": 2,
 "cells": [
  {
   "cell_type": "code",
   "execution_count": 23,
   "metadata": {},
   "outputs": [],
   "source": [
    "from pytrem import veiculos as ve\n",
    "\n",
    "\n",
    "v = [0]\n",
    "\n",
    "v[0] = ve.vagao(\"HTF60123\", \"HTF\", 110, 110)"
   ]
  },
  {
   "cell_type": "code",
   "execution_count": 24,
   "metadata": {},
   "outputs": [
    {
     "output_type": "execute_result",
     "data": {
      "text/plain": [
       "1.426642857142857"
      ]
     },
     "metadata": {},
     "execution_count": 24
    }
   ],
   "source": [
    "v[0].FE = 100000\n",
    "v[0].pEG = 200\n",
    "v[0].a\n"
   ]
  },
  {
   "cell_type": "code",
   "execution_count": null,
   "metadata": {},
   "outputs": [],
   "source": []
  }
 ]
}